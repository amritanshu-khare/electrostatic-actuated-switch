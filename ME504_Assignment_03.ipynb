{
  "cells": [
    {
      "attachments": {},
      "cell_type": "markdown",
      "metadata": {
        "id": "Ot1NKeZ6z40c"
      },
      "source": [
        "##Question 2"
      ]
    },
    {
      "cell_type": "code",
      "execution_count": 1,
      "metadata": {
        "id": "hM_T37aouTfU"
      },
      "outputs": [],
      "source": [
        "import numpy as np\n",
        "import matplotlib.pyplot as plt\n",
        "from keras.models import Sequential\n",
        "from keras.layers import Dense"
      ]
    },
    {
      "cell_type": "code",
      "execution_count": 2,
      "metadata": {
        "id": "Ec1qjJSmQEXB"
      },
      "outputs": [],
      "source": [
        "l = 0.2\n",
        "h = 0.1\n",
        "E = pow(10,7)"
      ]
    },
    {
      "cell_type": "code",
      "execution_count": 3,
      "metadata": {
        "id": "UFvuY2IBLnvi"
      },
      "outputs": [],
      "source": [
        "# defining total deflection\n",
        "def total_deflection (F,V,E,l,h):\n",
        "  I = 1/3*h*l*l*l\n",
        "  delta_x = (0.1*V*V*l*l*l*l/(8*E*I)) + (F*l*l*l/(3*E*I))\n",
        "  return delta_x"
      ]
    },
    {
      "cell_type": "code",
      "execution_count": 4,
      "metadata": {
        "id": "ziTIxyFOQIhu"
      },
      "outputs": [],
      "source": [
        "# generating training data\n",
        "n_sample_train = 5000\n",
        "F_train = np.random.uniform(low=1, high=10000, size=n_sample_train)\n",
        "V_train = np.random.uniform(low=10, high=5000, size=n_sample_train)\n",
        "X_train = np.empty((n_sample_train,2))\n",
        "for i in range(n_sample_train):\n",
        "  X_train[i][0] = F_train[i]\n",
        "  X_train[i][1] = V_train[i]\n",
        "\n",
        "y_train = total_deflection(F_train,V_train,E,l,h)\n",
        "Y_train = np.empty((n_sample_train))\n",
        "for i in range(n_sample_train):\n",
        "  if 0.05<=y_train[i]<0.3:\n",
        "    Y_train[i] = 1\n",
        "  else : Y_train[i] = 0\n"
      ]
    },
    {
      "cell_type": "code",
      "execution_count": 5,
      "metadata": {
        "colab": {
          "base_uri": "https://localhost:8080/"
        },
        "id": "GjZjMVjVhro5",
        "outputId": "fe469c40-6178-4ce3-c536-5c4c855bc447"
      },
      "outputs": [
        {
          "data": {
            "text/plain": [
              "array([1., 1., 1., ..., 0., 0., 1.])"
            ]
          },
          "execution_count": 5,
          "metadata": {},
          "output_type": "execute_result"
        }
      ],
      "source": [
        "Y_train"
      ]
    },
    {
      "cell_type": "code",
      "execution_count": 6,
      "metadata": {
        "colab": {
          "base_uri": "https://localhost:8080/"
        },
        "id": "sY5xi3xNPkPY",
        "outputId": "2ef8f6ac-2cc2-4d69-c7e1-8eecfeaf86c3"
      },
      "outputs": [
        {
          "data": {
            "text/plain": [
              "array([[1621.83852341, 4977.58947432],\n",
              "       [4814.14892077, 2764.58175475],\n",
              "       [ 480.12224885, 4287.12866217],\n",
              "       ...,\n",
              "       [5887.35878526, 2156.80037799],\n",
              "       [5460.39642768, 2223.98380544],\n",
              "       [7199.24710534, 4657.99958511]])"
            ]
          },
          "execution_count": 6,
          "metadata": {},
          "output_type": "execute_result"
        }
      ],
      "source": [
        "X_train"
      ]
    },
    {
      "cell_type": "code",
      "execution_count": 7,
      "metadata": {
        "colab": {
          "base_uri": "https://localhost:8080/"
        },
        "id": "pJIXFJAKXFJ2",
        "outputId": "e229081f-e006-4483-e5ce-b2ed0fba8a4e"
      },
      "outputs": [
        {
          "data": {
            "text/plain": [
              "array([4977.58947432, 2764.58175475, 4287.12866217, ..., 2156.80037799,\n",
              "       2223.98380544, 4657.99958511])"
            ]
          },
          "execution_count": 7,
          "metadata": {},
          "output_type": "execute_result"
        }
      ],
      "source": [
        "V_train"
      ]
    },
    {
      "cell_type": "code",
      "execution_count": null,
      "metadata": {
        "colab": {
          "base_uri": "https://localhost:8080/"
        },
        "id": "rnxP_7mAXIM1",
        "outputId": "87e1404e-9499-49f2-9170-9f34b0b9237c"
      },
      "outputs": [],
      "source": [
        "F_train"
      ]
    },
    {
      "cell_type": "code",
      "execution_count": null,
      "metadata": {
        "colab": {
          "base_uri": "https://localhost:8080/"
        },
        "id": "5x27bUG2XnjX",
        "outputId": "41cf86bc-377f-47d4-ba00-caf9e27797bb"
      },
      "outputs": [],
      "source": [
        "y_train"
      ]
    },
    {
      "cell_type": "code",
      "execution_count": null,
      "metadata": {
        "colab": {
          "base_uri": "https://localhost:8080/"
        },
        "id": "03vaz5vGAPOI",
        "outputId": "4ca1f4bc-75f6-4be4-a614-0ba679f29b2c"
      },
      "outputs": [],
      "source": [
        "Y_train"
      ]
    },
    {
      "cell_type": "code",
      "execution_count": 8,
      "metadata": {
        "colab": {
          "base_uri": "https://localhost:8080/"
        },
        "id": "nRCL5zX3_CgL",
        "outputId": "44cea325-f6a7-4bf1-c2f8-50008fec3bda"
      },
      "outputs": [
        {
          "name": "stdout",
          "output_type": "stream",
          "text": [
            "2438 2562\n"
          ]
        }
      ],
      "source": [
        "zeroes = 0\n",
        "ones = 0\n",
        "for i in range(n_sample_train):\n",
        "  if Y_train[i] == 0: zeroes = zeroes+1\n",
        "  else : ones = ones+1\n",
        "\n",
        "print(zeroes,ones)"
      ]
    },
    {
      "cell_type": "code",
      "execution_count": 10,
      "metadata": {
        "id": "wiP0j15H2MdT"
      },
      "outputs": [],
      "source": [
        "# generating validation data\n",
        "n_sample_valid = 1500\n",
        "F_valid = np.random.uniform(low=1, high=9000, size=n_sample_valid)\n",
        "V_valid = np.random.uniform(low=10, high=5000, size=n_sample_valid)\n",
        "X_valid = np.empty((n_sample_valid,2))\n",
        "for i in range(n_sample_valid):\n",
        "  X_valid[i][0] = F_valid[i]\n",
        "  X_valid[i][1] = V_valid[i]\n",
        "\n",
        "y_valid = total_deflection(F_valid,V_valid,E,l,h)\n",
        "Y_valid = np.empty((n_sample_valid))\n",
        "for i in range(n_sample_valid):\n",
        "  if 0.05<=y_valid[i]<0.3:\n",
        "    Y_valid[i] = 1\n",
        "  else : Y_valid[i] = 0\n"
      ]
    },
    {
      "cell_type": "code",
      "execution_count": 11,
      "metadata": {
        "id": "MryMiaKZYlZl"
      },
      "outputs": [],
      "source": [
        "# generating testing data\n",
        "n_sample_test = 1000\n",
        "F_test = np.random.uniform(low=1, high=10000, size=n_sample_test)\n",
        "V_test = np.random.uniform(low=10, high=5000, size=n_sample_test)\n",
        "X_test = np.empty((n_sample_test,2))\n",
        "for i in range(n_sample_test):\n",
        "  X_test[i][0] = F_test[i]\n",
        "  X_test[i][1] = V_test[i]\n",
        "\n",
        "y_test = total_deflection(F_test,V_test,E,l,h)\n",
        "Y_test = np.empty((n_sample_test))\n",
        "for i in range(n_sample_test):\n",
        "  if 0.05<=y_test[i]<0.3:\n",
        "    Y_test[i] = 1\n",
        "  else : Y_test[i] = 0\n"
      ]
    },
    {
      "cell_type": "code",
      "execution_count": 12,
      "metadata": {
        "id": "KAxRxZPFiCKy"
      },
      "outputs": [],
      "source": [
        "# Define the model architecture\n",
        "model = Sequential()\n",
        "model.add(Dense(32, input_dim=2, activation='relu'))\n",
        "model.add(Dense(16, activation='relu'))\n",
        "model.add(Dense(12, activation='relu'))\n",
        "model.add(Dense(14, activation='relu'))\n",
        "model.add(Dense(18, activation='relu'))\n",
        "model.add(Dense(1, activation='sigmoid'))\n"
      ]
    },
    {
      "cell_type": "code",
      "execution_count": 13,
      "metadata": {
        "id": "pY0JFmuVmAKc"
      },
      "outputs": [],
      "source": [
        "# Compile the model\n",
        "model.compile(loss='binary_crossentropy', optimizer='adam', metrics=['binary_accuracy'])\n"
      ]
    },
    {
      "cell_type": "code",
      "execution_count": 14,
      "metadata": {
        "colab": {
          "base_uri": "https://localhost:8080/"
        },
        "id": "PlnZEaaLmGus",
        "outputId": "563a23c2-f124-400e-df83-a30affd80049"
      },
      "outputs": [
        {
          "name": "stdout",
          "output_type": "stream",
          "text": [
            "Epoch 1/200\n",
            "157/157 [==============================] - 1s 3ms/step - loss: 2.7210 - binary_accuracy: 0.7316 - val_loss: 0.5946 - val_binary_accuracy: 0.7820\n",
            "Epoch 2/200\n",
            "157/157 [==============================] - 0s 2ms/step - loss: 0.9032 - binary_accuracy: 0.7566 - val_loss: 0.5454 - val_binary_accuracy: 0.7740\n",
            "Epoch 3/200\n",
            "157/157 [==============================] - 0s 2ms/step - loss: 0.6441 - binary_accuracy: 0.7754 - val_loss: 0.6578 - val_binary_accuracy: 0.7693\n",
            "Epoch 4/200\n",
            "157/157 [==============================] - 0s 3ms/step - loss: 0.5233 - binary_accuracy: 0.7882 - val_loss: 0.4552 - val_binary_accuracy: 0.8107\n",
            "Epoch 5/200\n",
            "157/157 [==============================] - 0s 2ms/step - loss: 0.6879 - binary_accuracy: 0.7982 - val_loss: 0.3393 - val_binary_accuracy: 0.8420\n",
            "Epoch 6/200\n",
            "157/157 [==============================] - 0s 2ms/step - loss: 0.5142 - binary_accuracy: 0.8110 - val_loss: 0.4028 - val_binary_accuracy: 0.8207\n",
            "Epoch 7/200\n",
            "157/157 [==============================] - 0s 2ms/step - loss: 0.4176 - binary_accuracy: 0.8336 - val_loss: 0.3607 - val_binary_accuracy: 0.8520\n",
            "Epoch 8/200\n",
            "157/157 [==============================] - 0s 2ms/step - loss: 0.3694 - binary_accuracy: 0.8432 - val_loss: 0.5868 - val_binary_accuracy: 0.8147\n",
            "Epoch 9/200\n",
            "157/157 [==============================] - 0s 2ms/step - loss: 0.3414 - binary_accuracy: 0.8552 - val_loss: 0.5237 - val_binary_accuracy: 0.8227\n",
            "Epoch 10/200\n",
            "157/157 [==============================] - 0s 2ms/step - loss: 0.3080 - binary_accuracy: 0.8668 - val_loss: 0.3681 - val_binary_accuracy: 0.8340\n",
            "Epoch 11/200\n",
            "157/157 [==============================] - 0s 2ms/step - loss: 0.3115 - binary_accuracy: 0.8688 - val_loss: 0.7533 - val_binary_accuracy: 0.7547\n",
            "Epoch 12/200\n",
            "157/157 [==============================] - 0s 2ms/step - loss: 0.4385 - binary_accuracy: 0.8512 - val_loss: 0.2962 - val_binary_accuracy: 0.8493\n",
            "Epoch 13/200\n",
            "157/157 [==============================] - 0s 2ms/step - loss: 0.2446 - binary_accuracy: 0.8966 - val_loss: 0.2309 - val_binary_accuracy: 0.9193\n",
            "Epoch 14/200\n",
            "157/157 [==============================] - 0s 2ms/step - loss: 0.2475 - binary_accuracy: 0.8980 - val_loss: 0.2337 - val_binary_accuracy: 0.9013\n",
            "Epoch 15/200\n",
            "157/157 [==============================] - 0s 2ms/step - loss: 0.2387 - binary_accuracy: 0.8974 - val_loss: 0.2073 - val_binary_accuracy: 0.8973\n",
            "Epoch 16/200\n",
            "157/157 [==============================] - 0s 2ms/step - loss: 0.2578 - binary_accuracy: 0.8862 - val_loss: 0.2278 - val_binary_accuracy: 0.8867\n",
            "Epoch 17/200\n",
            "157/157 [==============================] - 0s 2ms/step - loss: 0.2311 - binary_accuracy: 0.9028 - val_loss: 0.2835 - val_binary_accuracy: 0.8560\n",
            "Epoch 18/200\n",
            "157/157 [==============================] - 0s 2ms/step - loss: 0.2231 - binary_accuracy: 0.9056 - val_loss: 0.1689 - val_binary_accuracy: 0.9587\n",
            "Epoch 19/200\n",
            "157/157 [==============================] - 0s 2ms/step - loss: 0.1790 - binary_accuracy: 0.9298 - val_loss: 0.2396 - val_binary_accuracy: 0.9300\n",
            "Epoch 20/200\n",
            "157/157 [==============================] - 0s 2ms/step - loss: 0.1967 - binary_accuracy: 0.9188 - val_loss: 0.2686 - val_binary_accuracy: 0.8660\n",
            "Epoch 21/200\n",
            "157/157 [==============================] - 0s 2ms/step - loss: 0.1760 - binary_accuracy: 0.9306 - val_loss: 0.1547 - val_binary_accuracy: 0.9640\n",
            "Epoch 22/200\n",
            "157/157 [==============================] - 0s 2ms/step - loss: 0.1697 - binary_accuracy: 0.9320 - val_loss: 0.1750 - val_binary_accuracy: 0.9160\n",
            "Epoch 23/200\n",
            "157/157 [==============================] - 0s 2ms/step - loss: 0.1691 - binary_accuracy: 0.9350 - val_loss: 0.1614 - val_binary_accuracy: 0.9187\n",
            "Epoch 24/200\n",
            "157/157 [==============================] - 0s 2ms/step - loss: 0.1543 - binary_accuracy: 0.9420 - val_loss: 0.1477 - val_binary_accuracy: 0.9667\n",
            "Epoch 25/200\n",
            "157/157 [==============================] - 0s 2ms/step - loss: 0.1483 - binary_accuracy: 0.9464 - val_loss: 0.1388 - val_binary_accuracy: 0.9433\n",
            "Epoch 26/200\n",
            "157/157 [==============================] - 0s 2ms/step - loss: 0.1501 - binary_accuracy: 0.9444 - val_loss: 0.1433 - val_binary_accuracy: 0.9667\n",
            "Epoch 27/200\n",
            "157/157 [==============================] - 0s 2ms/step - loss: 0.1396 - binary_accuracy: 0.9534 - val_loss: 0.1366 - val_binary_accuracy: 0.9353\n",
            "Epoch 28/200\n",
            "157/157 [==============================] - 0s 2ms/step - loss: 0.1372 - binary_accuracy: 0.9528 - val_loss: 0.1394 - val_binary_accuracy: 0.9360\n",
            "Epoch 29/200\n",
            "157/157 [==============================] - 0s 2ms/step - loss: 0.1428 - binary_accuracy: 0.9462 - val_loss: 0.1487 - val_binary_accuracy: 0.9507\n",
            "Epoch 30/200\n",
            "157/157 [==============================] - 0s 2ms/step - loss: 0.1386 - binary_accuracy: 0.9474 - val_loss: 0.1270 - val_binary_accuracy: 0.9487\n",
            "Epoch 31/200\n",
            "157/157 [==============================] - 0s 2ms/step - loss: 0.1283 - binary_accuracy: 0.9600 - val_loss: 0.1222 - val_binary_accuracy: 0.9720\n",
            "Epoch 32/200\n",
            "157/157 [==============================] - 0s 2ms/step - loss: 0.1375 - binary_accuracy: 0.9546 - val_loss: 0.1229 - val_binary_accuracy: 0.9560\n",
            "Epoch 33/200\n",
            "157/157 [==============================] - 0s 2ms/step - loss: 0.1280 - binary_accuracy: 0.9592 - val_loss: 0.1227 - val_binary_accuracy: 0.9607\n",
            "Epoch 34/200\n",
            "157/157 [==============================] - 0s 2ms/step - loss: 0.1199 - binary_accuracy: 0.9636 - val_loss: 0.1183 - val_binary_accuracy: 0.9653\n",
            "Epoch 35/200\n",
            "157/157 [==============================] - 0s 2ms/step - loss: 0.1186 - binary_accuracy: 0.9606 - val_loss: 0.1705 - val_binary_accuracy: 0.9207\n",
            "Epoch 36/200\n",
            "157/157 [==============================] - 0s 2ms/step - loss: 0.1211 - binary_accuracy: 0.9592 - val_loss: 0.1177 - val_binary_accuracy: 0.9580\n",
            "Epoch 37/200\n",
            "157/157 [==============================] - 0s 2ms/step - loss: 0.1164 - binary_accuracy: 0.9622 - val_loss: 0.2082 - val_binary_accuracy: 0.8853\n",
            "Epoch 38/200\n",
            "157/157 [==============================] - 0s 2ms/step - loss: 0.1368 - binary_accuracy: 0.9448 - val_loss: 0.1244 - val_binary_accuracy: 0.9447\n",
            "Epoch 39/200\n",
            "157/157 [==============================] - 0s 2ms/step - loss: 0.1126 - binary_accuracy: 0.9628 - val_loss: 0.1726 - val_binary_accuracy: 0.9013\n",
            "Epoch 40/200\n",
            "157/157 [==============================] - 0s 2ms/step - loss: 0.1284 - binary_accuracy: 0.9482 - val_loss: 0.1415 - val_binary_accuracy: 0.9380\n",
            "Epoch 41/200\n",
            "157/157 [==============================] - 0s 2ms/step - loss: 0.1191 - binary_accuracy: 0.9580 - val_loss: 0.1231 - val_binary_accuracy: 0.9333\n",
            "Epoch 42/200\n",
            "157/157 [==============================] - 0s 2ms/step - loss: 0.1217 - binary_accuracy: 0.9526 - val_loss: 0.1069 - val_binary_accuracy: 0.9540\n",
            "Epoch 43/200\n",
            "157/157 [==============================] - 0s 2ms/step - loss: 0.1102 - binary_accuracy: 0.9580 - val_loss: 0.1021 - val_binary_accuracy: 0.9700\n",
            "Epoch 44/200\n",
            "157/157 [==============================] - 0s 2ms/step - loss: 0.1060 - binary_accuracy: 0.9686 - val_loss: 0.1054 - val_binary_accuracy: 0.9867\n",
            "Epoch 45/200\n",
            "157/157 [==============================] - 0s 2ms/step - loss: 0.1102 - binary_accuracy: 0.9606 - val_loss: 0.1071 - val_binary_accuracy: 0.9800\n",
            "Epoch 46/200\n",
            "157/157 [==============================] - 0s 2ms/step - loss: 0.1055 - binary_accuracy: 0.9638 - val_loss: 0.1066 - val_binary_accuracy: 0.9560\n",
            "Epoch 47/200\n",
            "157/157 [==============================] - 0s 2ms/step - loss: 0.1071 - binary_accuracy: 0.9606 - val_loss: 0.1012 - val_binary_accuracy: 0.9693\n",
            "Epoch 48/200\n",
            "157/157 [==============================] - 0s 2ms/step - loss: 0.0983 - binary_accuracy: 0.9712 - val_loss: 0.0931 - val_binary_accuracy: 0.9853\n",
            "Epoch 49/200\n",
            "157/157 [==============================] - 0s 2ms/step - loss: 0.1012 - binary_accuracy: 0.9660 - val_loss: 0.1033 - val_binary_accuracy: 0.9693\n",
            "Epoch 50/200\n",
            "157/157 [==============================] - 0s 2ms/step - loss: 0.0974 - binary_accuracy: 0.9684 - val_loss: 0.0905 - val_binary_accuracy: 0.9880\n",
            "Epoch 51/200\n",
            "157/157 [==============================] - 0s 2ms/step - loss: 0.1415 - binary_accuracy: 0.9538 - val_loss: 0.3569 - val_binary_accuracy: 0.8800\n",
            "Epoch 52/200\n",
            "157/157 [==============================] - 0s 2ms/step - loss: 0.1211 - binary_accuracy: 0.9520 - val_loss: 0.1001 - val_binary_accuracy: 0.9747\n",
            "Epoch 53/200\n",
            "157/157 [==============================] - 0s 2ms/step - loss: 0.1041 - binary_accuracy: 0.9568 - val_loss: 0.1233 - val_binary_accuracy: 0.9327\n",
            "Epoch 54/200\n",
            "157/157 [==============================] - 0s 2ms/step - loss: 0.0932 - binary_accuracy: 0.9672 - val_loss: 0.0946 - val_binary_accuracy: 0.9733\n",
            "Epoch 55/200\n",
            "157/157 [==============================] - 0s 2ms/step - loss: 0.0907 - binary_accuracy: 0.9714 - val_loss: 0.0961 - val_binary_accuracy: 0.9567\n",
            "Epoch 56/200\n",
            "157/157 [==============================] - 0s 2ms/step - loss: 0.0921 - binary_accuracy: 0.9696 - val_loss: 0.0844 - val_binary_accuracy: 0.9827\n",
            "Epoch 57/200\n",
            "157/157 [==============================] - 0s 2ms/step - loss: 0.0929 - binary_accuracy: 0.9716 - val_loss: 0.0897 - val_binary_accuracy: 0.9733\n",
            "Epoch 58/200\n",
            "157/157 [==============================] - 0s 2ms/step - loss: 0.0877 - binary_accuracy: 0.9724 - val_loss: 0.0856 - val_binary_accuracy: 0.9727\n",
            "Epoch 59/200\n",
            "157/157 [==============================] - 0s 2ms/step - loss: 0.0844 - binary_accuracy: 0.9756 - val_loss: 0.0882 - val_binary_accuracy: 0.9753\n",
            "Epoch 60/200\n",
            "157/157 [==============================] - 0s 2ms/step - loss: 0.0910 - binary_accuracy: 0.9692 - val_loss: 0.0838 - val_binary_accuracy: 0.9880\n",
            "Epoch 61/200\n",
            "157/157 [==============================] - 0s 2ms/step - loss: 0.0848 - binary_accuracy: 0.9736 - val_loss: 0.0847 - val_binary_accuracy: 0.9733\n",
            "Epoch 62/200\n",
            "157/157 [==============================] - 0s 2ms/step - loss: 0.0833 - binary_accuracy: 0.9744 - val_loss: 0.1178 - val_binary_accuracy: 0.9433\n",
            "Epoch 63/200\n",
            "157/157 [==============================] - 0s 2ms/step - loss: 0.1013 - binary_accuracy: 0.9592 - val_loss: 0.1057 - val_binary_accuracy: 0.9440\n",
            "Epoch 64/200\n",
            "157/157 [==============================] - 0s 2ms/step - loss: 0.0833 - binary_accuracy: 0.9740 - val_loss: 0.0897 - val_binary_accuracy: 0.9787\n",
            "Epoch 65/200\n",
            "157/157 [==============================] - 0s 2ms/step - loss: 0.0831 - binary_accuracy: 0.9730 - val_loss: 0.0768 - val_binary_accuracy: 0.9893\n",
            "Epoch 66/200\n",
            "157/157 [==============================] - 0s 2ms/step - loss: 0.0825 - binary_accuracy: 0.9726 - val_loss: 0.0761 - val_binary_accuracy: 0.9860\n",
            "Epoch 67/200\n",
            "157/157 [==============================] - 0s 2ms/step - loss: 0.0803 - binary_accuracy: 0.9764 - val_loss: 0.0967 - val_binary_accuracy: 0.9507\n",
            "Epoch 68/200\n",
            "157/157 [==============================] - 0s 2ms/step - loss: 0.0781 - binary_accuracy: 0.9772 - val_loss: 0.0844 - val_binary_accuracy: 0.9760\n",
            "Epoch 69/200\n",
            "157/157 [==============================] - 0s 2ms/step - loss: 0.1013 - binary_accuracy: 0.9638 - val_loss: 0.0845 - val_binary_accuracy: 0.9853\n",
            "Epoch 70/200\n",
            "157/157 [==============================] - 0s 2ms/step - loss: 0.0960 - binary_accuracy: 0.9656 - val_loss: 0.0853 - val_binary_accuracy: 0.9867\n",
            "Epoch 71/200\n",
            "157/157 [==============================] - 0s 2ms/step - loss: 0.0815 - binary_accuracy: 0.9764 - val_loss: 0.0802 - val_binary_accuracy: 0.9780\n",
            "Epoch 72/200\n",
            "157/157 [==============================] - 0s 2ms/step - loss: 0.0809 - binary_accuracy: 0.9746 - val_loss: 0.0792 - val_binary_accuracy: 0.9813\n",
            "Epoch 73/200\n",
            "157/157 [==============================] - 0s 2ms/step - loss: 0.0756 - binary_accuracy: 0.9784 - val_loss: 0.0834 - val_binary_accuracy: 0.9767\n",
            "Epoch 74/200\n",
            "157/157 [==============================] - 0s 2ms/step - loss: 0.0765 - binary_accuracy: 0.9786 - val_loss: 0.0771 - val_binary_accuracy: 0.9860\n",
            "Epoch 75/200\n",
            "157/157 [==============================] - 0s 2ms/step - loss: 0.0742 - binary_accuracy: 0.9790 - val_loss: 0.0729 - val_binary_accuracy: 0.9887\n",
            "Epoch 76/200\n",
            "157/157 [==============================] - 0s 2ms/step - loss: 0.0763 - binary_accuracy: 0.9748 - val_loss: 0.0692 - val_binary_accuracy: 0.9907\n",
            "Epoch 77/200\n",
            "157/157 [==============================] - 0s 2ms/step - loss: 0.0763 - binary_accuracy: 0.9726 - val_loss: 0.0782 - val_binary_accuracy: 0.9780\n",
            "Epoch 78/200\n",
            "157/157 [==============================] - 0s 2ms/step - loss: 0.0710 - binary_accuracy: 0.9798 - val_loss: 0.0988 - val_binary_accuracy: 0.9440\n",
            "Epoch 79/200\n",
            "157/157 [==============================] - 0s 2ms/step - loss: 0.0743 - binary_accuracy: 0.9766 - val_loss: 0.0775 - val_binary_accuracy: 0.9793\n",
            "Epoch 80/200\n",
            "157/157 [==============================] - 0s 2ms/step - loss: 0.0744 - binary_accuracy: 0.9744 - val_loss: 0.0746 - val_binary_accuracy: 0.9793\n",
            "Epoch 81/200\n",
            "157/157 [==============================] - 0s 2ms/step - loss: 0.0684 - binary_accuracy: 0.9796 - val_loss: 0.0668 - val_binary_accuracy: 0.9887\n",
            "Epoch 82/200\n",
            "157/157 [==============================] - 0s 2ms/step - loss: 0.0660 - binary_accuracy: 0.9838 - val_loss: 0.0662 - val_binary_accuracy: 0.9787\n",
            "Epoch 83/200\n",
            "157/157 [==============================] - 0s 2ms/step - loss: 0.0677 - binary_accuracy: 0.9804 - val_loss: 0.0629 - val_binary_accuracy: 0.9953\n",
            "Epoch 84/200\n",
            "157/157 [==============================] - 0s 2ms/step - loss: 0.0668 - binary_accuracy: 0.9806 - val_loss: 0.0825 - val_binary_accuracy: 0.9707\n",
            "Epoch 85/200\n",
            "157/157 [==============================] - 0s 2ms/step - loss: 0.0662 - binary_accuracy: 0.9778 - val_loss: 0.0789 - val_binary_accuracy: 0.9613\n",
            "Epoch 86/200\n",
            "157/157 [==============================] - 0s 2ms/step - loss: 0.0661 - binary_accuracy: 0.9780 - val_loss: 0.0672 - val_binary_accuracy: 0.9760\n",
            "Epoch 87/200\n",
            "157/157 [==============================] - 0s 2ms/step - loss: 0.0670 - binary_accuracy: 0.9786 - val_loss: 0.0819 - val_binary_accuracy: 0.9653\n",
            "Epoch 88/200\n",
            "157/157 [==============================] - 0s 2ms/step - loss: 0.0605 - binary_accuracy: 0.9846 - val_loss: 0.0578 - val_binary_accuracy: 0.9967\n",
            "Epoch 89/200\n",
            "157/157 [==============================] - 0s 2ms/step - loss: 0.0622 - binary_accuracy: 0.9804 - val_loss: 0.0759 - val_binary_accuracy: 0.9600\n",
            "Epoch 90/200\n",
            "157/157 [==============================] - 0s 2ms/step - loss: 0.0637 - binary_accuracy: 0.9796 - val_loss: 0.0577 - val_binary_accuracy: 0.9953\n",
            "Epoch 91/200\n",
            "157/157 [==============================] - 0s 2ms/step - loss: 0.0576 - binary_accuracy: 0.9834 - val_loss: 0.0832 - val_binary_accuracy: 0.9533\n",
            "Epoch 92/200\n",
            "157/157 [==============================] - 0s 2ms/step - loss: 0.0595 - binary_accuracy: 0.9818 - val_loss: 0.0645 - val_binary_accuracy: 0.9707\n",
            "Epoch 93/200\n",
            "157/157 [==============================] - 0s 2ms/step - loss: 0.0554 - binary_accuracy: 0.9856 - val_loss: 0.0846 - val_binary_accuracy: 0.9567\n",
            "Epoch 94/200\n",
            "157/157 [==============================] - 0s 2ms/step - loss: 0.0570 - binary_accuracy: 0.9832 - val_loss: 0.0629 - val_binary_accuracy: 0.9787\n",
            "Epoch 95/200\n",
            "157/157 [==============================] - 0s 2ms/step - loss: 0.0652 - binary_accuracy: 0.9752 - val_loss: 0.0529 - val_binary_accuracy: 0.9913\n",
            "Epoch 96/200\n",
            "157/157 [==============================] - 0s 2ms/step - loss: 0.0580 - binary_accuracy: 0.9794 - val_loss: 0.0514 - val_binary_accuracy: 0.9973\n",
            "Epoch 97/200\n",
            "157/157 [==============================] - 0s 2ms/step - loss: 0.0550 - binary_accuracy: 0.9802 - val_loss: 0.0527 - val_binary_accuracy: 0.9927\n",
            "Epoch 98/200\n",
            "157/157 [==============================] - 0s 2ms/step - loss: 0.0539 - binary_accuracy: 0.9824 - val_loss: 0.0511 - val_binary_accuracy: 0.9893\n",
            "Epoch 99/200\n",
            "157/157 [==============================] - 0s 2ms/step - loss: 0.0589 - binary_accuracy: 0.9816 - val_loss: 0.0785 - val_binary_accuracy: 0.9587\n",
            "Epoch 100/200\n",
            "157/157 [==============================] - 0s 2ms/step - loss: 0.0516 - binary_accuracy: 0.9846 - val_loss: 0.0507 - val_binary_accuracy: 0.9900\n",
            "Epoch 101/200\n",
            "157/157 [==============================] - 0s 2ms/step - loss: 0.0528 - binary_accuracy: 0.9822 - val_loss: 0.0501 - val_binary_accuracy: 0.9873\n",
            "Epoch 102/200\n",
            "157/157 [==============================] - 0s 2ms/step - loss: 0.0504 - binary_accuracy: 0.9854 - val_loss: 0.1056 - val_binary_accuracy: 0.9433\n",
            "Epoch 103/200\n",
            "157/157 [==============================] - 0s 2ms/step - loss: 0.0529 - binary_accuracy: 0.9832 - val_loss: 0.0465 - val_binary_accuracy: 0.9933\n",
            "Epoch 104/200\n",
            "157/157 [==============================] - 0s 2ms/step - loss: 0.0536 - binary_accuracy: 0.9810 - val_loss: 0.0586 - val_binary_accuracy: 0.9693\n",
            "Epoch 105/200\n",
            "157/157 [==============================] - 0s 2ms/step - loss: 0.0485 - binary_accuracy: 0.9830 - val_loss: 0.0502 - val_binary_accuracy: 0.9887\n",
            "Epoch 106/200\n",
            "157/157 [==============================] - 0s 2ms/step - loss: 0.0488 - binary_accuracy: 0.9846 - val_loss: 0.0538 - val_binary_accuracy: 0.9747\n",
            "Epoch 107/200\n",
            "157/157 [==============================] - 0s 2ms/step - loss: 0.0524 - binary_accuracy: 0.9816 - val_loss: 0.0847 - val_binary_accuracy: 0.9527\n",
            "Epoch 108/200\n",
            "157/157 [==============================] - 0s 2ms/step - loss: 0.0488 - binary_accuracy: 0.9848 - val_loss: 0.0472 - val_binary_accuracy: 0.9907\n",
            "Epoch 109/200\n",
            "157/157 [==============================] - 0s 2ms/step - loss: 0.0482 - binary_accuracy: 0.9828 - val_loss: 0.0572 - val_binary_accuracy: 0.9747\n",
            "Epoch 110/200\n",
            "157/157 [==============================] - 0s 2ms/step - loss: 0.0480 - binary_accuracy: 0.9840 - val_loss: 0.0613 - val_binary_accuracy: 0.9667\n",
            "Epoch 111/200\n",
            "157/157 [==============================] - 0s 2ms/step - loss: 0.0495 - binary_accuracy: 0.9806 - val_loss: 0.0427 - val_binary_accuracy: 0.9907\n",
            "Epoch 112/200\n",
            "157/157 [==============================] - 0s 2ms/step - loss: 0.0530 - binary_accuracy: 0.9816 - val_loss: 0.0475 - val_binary_accuracy: 0.9820\n",
            "Epoch 113/200\n",
            "157/157 [==============================] - 0s 2ms/step - loss: 0.0461 - binary_accuracy: 0.9862 - val_loss: 0.0488 - val_binary_accuracy: 0.9793\n",
            "Epoch 114/200\n",
            "157/157 [==============================] - 0s 2ms/step - loss: 0.0422 - binary_accuracy: 0.9882 - val_loss: 0.0436 - val_binary_accuracy: 0.9873\n",
            "Epoch 115/200\n",
            "157/157 [==============================] - 0s 2ms/step - loss: 0.0426 - binary_accuracy: 0.9858 - val_loss: 0.0400 - val_binary_accuracy: 0.9960\n",
            "Epoch 116/200\n",
            "157/157 [==============================] - 0s 2ms/step - loss: 0.0421 - binary_accuracy: 0.9856 - val_loss: 0.0464 - val_binary_accuracy: 0.9847\n",
            "Epoch 117/200\n",
            "157/157 [==============================] - 0s 2ms/step - loss: 0.0442 - binary_accuracy: 0.9852 - val_loss: 0.0524 - val_binary_accuracy: 0.9753\n",
            "Epoch 118/200\n",
            "157/157 [==============================] - 0s 2ms/step - loss: 0.0450 - binary_accuracy: 0.9834 - val_loss: 0.0423 - val_binary_accuracy: 0.9893\n",
            "Epoch 119/200\n",
            "157/157 [==============================] - 0s 2ms/step - loss: 0.0401 - binary_accuracy: 0.9872 - val_loss: 0.0531 - val_binary_accuracy: 0.9713\n",
            "Epoch 120/200\n",
            "157/157 [==============================] - 0s 2ms/step - loss: 0.0446 - binary_accuracy: 0.9828 - val_loss: 0.0420 - val_binary_accuracy: 0.9847\n",
            "Epoch 121/200\n",
            "157/157 [==============================] - 0s 2ms/step - loss: 0.0431 - binary_accuracy: 0.9836 - val_loss: 0.0419 - val_binary_accuracy: 0.9853\n",
            "Epoch 122/200\n",
            "157/157 [==============================] - 0s 2ms/step - loss: 0.0426 - binary_accuracy: 0.9836 - val_loss: 0.0546 - val_binary_accuracy: 0.9707\n",
            "Epoch 123/200\n",
            "157/157 [==============================] - 0s 2ms/step - loss: 0.0358 - binary_accuracy: 0.9912 - val_loss: 0.0369 - val_binary_accuracy: 0.9913\n",
            "Epoch 124/200\n",
            "157/157 [==============================] - 0s 2ms/step - loss: 0.0429 - binary_accuracy: 0.9852 - val_loss: 0.0719 - val_binary_accuracy: 0.9600\n",
            "Epoch 125/200\n",
            "157/157 [==============================] - 0s 2ms/step - loss: 0.0373 - binary_accuracy: 0.9888 - val_loss: 0.0564 - val_binary_accuracy: 0.9680\n",
            "Epoch 126/200\n",
            "157/157 [==============================] - 0s 2ms/step - loss: 0.0438 - binary_accuracy: 0.9828 - val_loss: 0.1194 - val_binary_accuracy: 0.9360\n",
            "Epoch 127/200\n",
            "157/157 [==============================] - 0s 2ms/step - loss: 0.0439 - binary_accuracy: 0.9852 - val_loss: 0.0374 - val_binary_accuracy: 0.9927\n",
            "Epoch 128/200\n",
            "157/157 [==============================] - 0s 2ms/step - loss: 0.0391 - binary_accuracy: 0.9882 - val_loss: 0.0380 - val_binary_accuracy: 0.9920\n",
            "Epoch 129/200\n",
            "157/157 [==============================] - 0s 2ms/step - loss: 0.0374 - binary_accuracy: 0.9896 - val_loss: 0.0361 - val_binary_accuracy: 0.9953\n",
            "Epoch 130/200\n",
            "157/157 [==============================] - 0s 2ms/step - loss: 0.0380 - binary_accuracy: 0.9876 - val_loss: 0.0347 - val_binary_accuracy: 0.9973\n",
            "Epoch 131/200\n",
            "157/157 [==============================] - 0s 2ms/step - loss: 0.0389 - binary_accuracy: 0.9872 - val_loss: 0.0469 - val_binary_accuracy: 0.9773\n",
            "Epoch 132/200\n",
            "157/157 [==============================] - 0s 2ms/step - loss: 0.0412 - binary_accuracy: 0.9846 - val_loss: 0.0370 - val_binary_accuracy: 0.9927\n",
            "Epoch 133/200\n",
            "157/157 [==============================] - 0s 2ms/step - loss: 0.0406 - binary_accuracy: 0.9854 - val_loss: 0.0356 - val_binary_accuracy: 0.9960\n",
            "Epoch 134/200\n",
            "157/157 [==============================] - 0s 2ms/step - loss: 0.0368 - binary_accuracy: 0.9882 - val_loss: 0.0334 - val_binary_accuracy: 0.9940\n",
            "Epoch 135/200\n",
            "157/157 [==============================] - 0s 2ms/step - loss: 0.0440 - binary_accuracy: 0.9822 - val_loss: 0.0366 - val_binary_accuracy: 0.9927\n",
            "Epoch 136/200\n",
            "157/157 [==============================] - 0s 2ms/step - loss: 0.0430 - binary_accuracy: 0.9828 - val_loss: 0.0368 - val_binary_accuracy: 0.9887\n",
            "Epoch 137/200\n",
            "157/157 [==============================] - 0s 2ms/step - loss: 0.0421 - binary_accuracy: 0.9838 - val_loss: 0.0351 - val_binary_accuracy: 0.9920\n",
            "Epoch 138/200\n",
            "157/157 [==============================] - 0s 2ms/step - loss: 0.0344 - binary_accuracy: 0.9904 - val_loss: 0.0335 - val_binary_accuracy: 0.9947\n",
            "Epoch 139/200\n",
            "157/157 [==============================] - 0s 2ms/step - loss: 0.0364 - binary_accuracy: 0.9866 - val_loss: 0.0326 - val_binary_accuracy: 0.9953\n",
            "Epoch 140/200\n",
            "157/157 [==============================] - 0s 2ms/step - loss: 0.0353 - binary_accuracy: 0.9902 - val_loss: 0.0361 - val_binary_accuracy: 0.9893\n",
            "Epoch 141/200\n",
            "157/157 [==============================] - 0s 2ms/step - loss: 0.0366 - binary_accuracy: 0.9890 - val_loss: 0.0636 - val_binary_accuracy: 0.9640\n",
            "Epoch 142/200\n",
            "157/157 [==============================] - 0s 2ms/step - loss: 0.0367 - binary_accuracy: 0.9874 - val_loss: 0.0360 - val_binary_accuracy: 0.9860\n",
            "Epoch 143/200\n",
            "157/157 [==============================] - 0s 2ms/step - loss: 0.0350 - binary_accuracy: 0.9880 - val_loss: 0.0376 - val_binary_accuracy: 0.9887\n",
            "Epoch 144/200\n",
            "157/157 [==============================] - 0s 2ms/step - loss: 0.0344 - binary_accuracy: 0.9876 - val_loss: 0.0307 - val_binary_accuracy: 0.9980\n",
            "Epoch 145/200\n",
            "157/157 [==============================] - 0s 2ms/step - loss: 0.0411 - binary_accuracy: 0.9846 - val_loss: 0.0427 - val_binary_accuracy: 0.9760\n",
            "Epoch 146/200\n",
            "157/157 [==============================] - 0s 2ms/step - loss: 0.0352 - binary_accuracy: 0.9874 - val_loss: 0.0437 - val_binary_accuracy: 0.9780\n",
            "Epoch 147/200\n",
            "157/157 [==============================] - 0s 2ms/step - loss: 0.0320 - binary_accuracy: 0.9894 - val_loss: 0.0347 - val_binary_accuracy: 0.9873\n",
            "Epoch 148/200\n",
            "157/157 [==============================] - 0s 2ms/step - loss: 0.0351 - binary_accuracy: 0.9874 - val_loss: 0.0547 - val_binary_accuracy: 0.9700\n",
            "Epoch 149/200\n",
            "157/157 [==============================] - 0s 2ms/step - loss: 0.0376 - binary_accuracy: 0.9872 - val_loss: 0.0334 - val_binary_accuracy: 0.9907\n",
            "Epoch 150/200\n",
            "157/157 [==============================] - 0s 2ms/step - loss: 0.0315 - binary_accuracy: 0.9900 - val_loss: 0.0293 - val_binary_accuracy: 0.9967\n",
            "Epoch 151/200\n",
            "157/157 [==============================] - 0s 2ms/step - loss: 0.0302 - binary_accuracy: 0.9912 - val_loss: 0.0286 - val_binary_accuracy: 0.9980\n",
            "Epoch 152/200\n",
            "157/157 [==============================] - 0s 2ms/step - loss: 0.0314 - binary_accuracy: 0.9882 - val_loss: 0.0296 - val_binary_accuracy: 0.9920\n",
            "Epoch 153/200\n",
            "157/157 [==============================] - 0s 2ms/step - loss: 0.0322 - binary_accuracy: 0.9894 - val_loss: 0.0335 - val_binary_accuracy: 0.9880\n",
            "Epoch 154/200\n",
            "157/157 [==============================] - 0s 2ms/step - loss: 0.0415 - binary_accuracy: 0.9844 - val_loss: 0.0285 - val_binary_accuracy: 0.9980\n",
            "Epoch 155/200\n",
            "157/157 [==============================] - 0s 2ms/step - loss: 0.0292 - binary_accuracy: 0.9906 - val_loss: 0.0326 - val_binary_accuracy: 0.9893\n",
            "Epoch 156/200\n",
            "157/157 [==============================] - 0s 2ms/step - loss: 0.0359 - binary_accuracy: 0.9872 - val_loss: 0.0329 - val_binary_accuracy: 0.9907\n",
            "Epoch 157/200\n",
            "157/157 [==============================] - 0s 2ms/step - loss: 0.0412 - binary_accuracy: 0.9828 - val_loss: 0.0316 - val_binary_accuracy: 0.9900\n",
            "Epoch 158/200\n",
            "157/157 [==============================] - 0s 2ms/step - loss: 0.0405 - binary_accuracy: 0.9860 - val_loss: 0.0292 - val_binary_accuracy: 0.9933\n",
            "Epoch 159/200\n",
            "157/157 [==============================] - 0s 2ms/step - loss: 0.0291 - binary_accuracy: 0.9920 - val_loss: 0.0283 - val_binary_accuracy: 0.9947\n",
            "Epoch 160/200\n",
            "157/157 [==============================] - 0s 2ms/step - loss: 0.0282 - binary_accuracy: 0.9920 - val_loss: 0.0360 - val_binary_accuracy: 0.9847\n",
            "Epoch 161/200\n",
            "157/157 [==============================] - 0s 2ms/step - loss: 0.0366 - binary_accuracy: 0.9836 - val_loss: 0.0289 - val_binary_accuracy: 0.9940\n",
            "Epoch 162/200\n",
            "157/157 [==============================] - 0s 2ms/step - loss: 0.0331 - binary_accuracy: 0.9864 - val_loss: 0.0341 - val_binary_accuracy: 0.9853\n",
            "Epoch 163/200\n",
            "157/157 [==============================] - 0s 2ms/step - loss: 0.0299 - binary_accuracy: 0.9900 - val_loss: 0.0346 - val_binary_accuracy: 0.9880\n",
            "Epoch 164/200\n",
            "157/157 [==============================] - 0s 2ms/step - loss: 0.0306 - binary_accuracy: 0.9892 - val_loss: 0.0266 - val_binary_accuracy: 0.9967\n",
            "Epoch 165/200\n",
            "157/157 [==============================] - 0s 2ms/step - loss: 0.0287 - binary_accuracy: 0.9916 - val_loss: 0.0300 - val_binary_accuracy: 0.9893\n",
            "Epoch 166/200\n",
            "157/157 [==============================] - 0s 2ms/step - loss: 0.0316 - binary_accuracy: 0.9862 - val_loss: 0.0280 - val_binary_accuracy: 0.9947\n",
            "Epoch 167/200\n",
            "157/157 [==============================] - 0s 2ms/step - loss: 0.0315 - binary_accuracy: 0.9876 - val_loss: 0.0258 - val_binary_accuracy: 0.9980\n",
            "Epoch 168/200\n",
            "157/157 [==============================] - 0s 2ms/step - loss: 0.0313 - binary_accuracy: 0.9888 - val_loss: 0.1085 - val_binary_accuracy: 0.9527\n",
            "Epoch 169/200\n",
            "157/157 [==============================] - 0s 2ms/step - loss: 0.0352 - binary_accuracy: 0.9848 - val_loss: 0.0251 - val_binary_accuracy: 0.9967\n",
            "Epoch 170/200\n",
            "157/157 [==============================] - 0s 2ms/step - loss: 0.0280 - binary_accuracy: 0.9906 - val_loss: 0.0278 - val_binary_accuracy: 0.9920\n",
            "Epoch 171/200\n",
            "157/157 [==============================] - 0s 2ms/step - loss: 0.0338 - binary_accuracy: 0.9874 - val_loss: 0.0283 - val_binary_accuracy: 0.9900\n",
            "Epoch 172/200\n",
            "157/157 [==============================] - 0s 2ms/step - loss: 0.0311 - binary_accuracy: 0.9888 - val_loss: 0.0315 - val_binary_accuracy: 0.9873\n",
            "Epoch 173/200\n",
            "157/157 [==============================] - 0s 2ms/step - loss: 0.0322 - binary_accuracy: 0.9874 - val_loss: 0.0381 - val_binary_accuracy: 0.9827\n",
            "Epoch 174/200\n",
            "157/157 [==============================] - 0s 2ms/step - loss: 0.0254 - binary_accuracy: 0.9928 - val_loss: 0.0250 - val_binary_accuracy: 0.9960\n",
            "Epoch 175/200\n",
            "157/157 [==============================] - 0s 2ms/step - loss: 0.0356 - binary_accuracy: 0.9874 - val_loss: 0.0317 - val_binary_accuracy: 0.9847\n",
            "Epoch 176/200\n",
            "157/157 [==============================] - 0s 2ms/step - loss: 0.0318 - binary_accuracy: 0.9882 - val_loss: 0.0778 - val_binary_accuracy: 0.9607\n",
            "Epoch 177/200\n",
            "157/157 [==============================] - 0s 2ms/step - loss: 0.0344 - binary_accuracy: 0.9852 - val_loss: 0.0411 - val_binary_accuracy: 0.9787\n",
            "Epoch 178/200\n",
            "157/157 [==============================] - 0s 2ms/step - loss: 0.0262 - binary_accuracy: 0.9894 - val_loss: 0.0264 - val_binary_accuracy: 0.9933\n",
            "Epoch 179/200\n",
            "157/157 [==============================] - 0s 2ms/step - loss: 0.0271 - binary_accuracy: 0.9914 - val_loss: 0.0329 - val_binary_accuracy: 0.9840\n",
            "Epoch 180/200\n",
            "157/157 [==============================] - 0s 2ms/step - loss: 0.0318 - binary_accuracy: 0.9878 - val_loss: 0.0251 - val_binary_accuracy: 0.9940\n",
            "Epoch 181/200\n",
            "157/157 [==============================] - 0s 2ms/step - loss: 0.0288 - binary_accuracy: 0.9908 - val_loss: 0.0496 - val_binary_accuracy: 0.9713\n",
            "Epoch 182/200\n",
            "157/157 [==============================] - 0s 2ms/step - loss: 0.0319 - binary_accuracy: 0.9884 - val_loss: 0.0318 - val_binary_accuracy: 0.9847\n",
            "Epoch 183/200\n",
            "157/157 [==============================] - 0s 2ms/step - loss: 0.0292 - binary_accuracy: 0.9886 - val_loss: 0.0388 - val_binary_accuracy: 0.9820\n",
            "Epoch 184/200\n",
            "157/157 [==============================] - 0s 2ms/step - loss: 0.0257 - binary_accuracy: 0.9928 - val_loss: 0.0244 - val_binary_accuracy: 0.9967\n",
            "Epoch 185/200\n",
            "157/157 [==============================] - 0s 2ms/step - loss: 0.0263 - binary_accuracy: 0.9904 - val_loss: 0.0237 - val_binary_accuracy: 0.9967\n",
            "Epoch 186/200\n",
            "157/157 [==============================] - 0s 2ms/step - loss: 0.0329 - binary_accuracy: 0.9878 - val_loss: 0.0344 - val_binary_accuracy: 0.9813\n",
            "Epoch 187/200\n",
            "157/157 [==============================] - 0s 2ms/step - loss: 0.0289 - binary_accuracy: 0.9886 - val_loss: 0.0335 - val_binary_accuracy: 0.9860\n",
            "Epoch 188/200\n",
            "157/157 [==============================] - 0s 2ms/step - loss: 0.0278 - binary_accuracy: 0.9900 - val_loss: 0.0300 - val_binary_accuracy: 0.9873\n",
            "Epoch 189/200\n",
            "157/157 [==============================] - 0s 2ms/step - loss: 0.0329 - binary_accuracy: 0.9884 - val_loss: 0.0403 - val_binary_accuracy: 0.9813\n",
            "Epoch 190/200\n",
            "157/157 [==============================] - 0s 2ms/step - loss: 0.0355 - binary_accuracy: 0.9840 - val_loss: 0.0389 - val_binary_accuracy: 0.9820\n",
            "Epoch 191/200\n",
            "157/157 [==============================] - 0s 2ms/step - loss: 0.0281 - binary_accuracy: 0.9908 - val_loss: 0.0387 - val_binary_accuracy: 0.9800\n",
            "Epoch 192/200\n",
            "157/157 [==============================] - 0s 2ms/step - loss: 0.0276 - binary_accuracy: 0.9916 - val_loss: 0.0251 - val_binary_accuracy: 0.9973\n",
            "Epoch 193/200\n",
            "157/157 [==============================] - 0s 2ms/step - loss: 0.0284 - binary_accuracy: 0.9908 - val_loss: 0.0264 - val_binary_accuracy: 0.9947\n",
            "Epoch 194/200\n",
            "157/157 [==============================] - 0s 2ms/step - loss: 0.0325 - binary_accuracy: 0.9880 - val_loss: 0.0541 - val_binary_accuracy: 0.9727\n",
            "Epoch 195/200\n",
            "157/157 [==============================] - 0s 2ms/step - loss: 0.0303 - binary_accuracy: 0.9892 - val_loss: 0.0484 - val_binary_accuracy: 0.9727\n",
            "Epoch 196/200\n",
            "157/157 [==============================] - 0s 2ms/step - loss: 0.0265 - binary_accuracy: 0.9926 - val_loss: 0.0293 - val_binary_accuracy: 0.9907\n",
            "Epoch 197/200\n",
            "157/157 [==============================] - 0s 2ms/step - loss: 0.0311 - binary_accuracy: 0.9870 - val_loss: 0.0312 - val_binary_accuracy: 0.9887\n",
            "Epoch 198/200\n",
            "157/157 [==============================] - 0s 2ms/step - loss: 0.0325 - binary_accuracy: 0.9872 - val_loss: 0.0632 - val_binary_accuracy: 0.9660\n",
            "Epoch 199/200\n",
            "157/157 [==============================] - 0s 2ms/step - loss: 0.0315 - binary_accuracy: 0.9878 - val_loss: 0.0411 - val_binary_accuracy: 0.9773\n",
            "Epoch 200/200\n",
            "157/157 [==============================] - 0s 2ms/step - loss: 0.0288 - binary_accuracy: 0.9892 - val_loss: 0.0249 - val_binary_accuracy: 0.9967\n"
          ]
        }
      ],
      "source": [
        "# Train the model\n",
        "\n",
        "history = model.fit(X_train, Y_train, epochs=200, batch_size=32, validation_data=(X_valid, Y_valid))\n"
      ]
    },
    {
      "cell_type": "code",
      "execution_count": 15,
      "metadata": {
        "colab": {
          "base_uri": "https://localhost:8080/"
        },
        "id": "cscVGJ5SmvZY",
        "outputId": "34e131d1-96b4-4c71-a6b3-6e7282af6c1d"
      },
      "outputs": [
        {
          "name": "stdout",
          "output_type": "stream",
          "text": [
            "32/32 [==============================] - 0s 1ms/step - loss: 0.0234 - binary_accuracy: 0.9970\n",
            "Test loss: 0.023355232551693916\n",
            "Test accuracy: 0.996999979019165\n"
          ]
        }
      ],
      "source": [
        "# Evaluate the model on the testing data\n",
        "loss, binary_accuracy = model.evaluate(X_test, Y_test)\n",
        "print('Test loss:', loss)\n",
        "print('Test accuracy:', binary_accuracy)"
      ]
    },
    {
      "cell_type": "code",
      "execution_count": null,
      "metadata": {
        "colab": {
          "base_uri": "https://localhost:8080/"
        },
        "id": "OJFeisHChunK",
        "outputId": "1c2b2d25-bfd5-4323-aaa3-802b2b1bb32c"
      },
      "outputs": [],
      "source": [
        "X_train"
      ]
    },
    {
      "cell_type": "code",
      "execution_count": null,
      "metadata": {
        "colab": {
          "base_uri": "https://localhost:8080/"
        },
        "id": "YUCbwW4iiFW5",
        "outputId": "4972d200-2cc8-4adb-a782-5860141b3f5b"
      },
      "outputs": [],
      "source": [
        "y_train"
      ]
    },
    {
      "cell_type": "code",
      "execution_count": 16,
      "metadata": {
        "colab": {
          "base_uri": "https://localhost:8080/"
        },
        "id": "H_e1VCa9GBnz",
        "outputId": "f7586c7f-107d-4196-f0d0-2f79a1f117f7"
      },
      "outputs": [
        {
          "name": "stdout",
          "output_type": "stream",
          "text": [
            "1/1 [==============================] - 0s 111ms/step\n"
          ]
        },
        {
          "data": {
            "text/plain": [
              "array([[0.9998701]], dtype=float32)"
            ]
          },
          "execution_count": 16,
          "metadata": {},
          "output_type": "execute_result"
        }
      ],
      "source": [
        "model.predict([[7079.83388333, 3036.26026819]])#,[866.74427827, 2736.73497739]])"
      ]
    },
    {
      "cell_type": "code",
      "execution_count": null,
      "metadata": {
        "id": "27S7U__Ox0DU"
      },
      "outputs": [],
      "source": [
        "from sklearn.preprocessing import FunctionTransformer\n",
        "transformer = FunctionTransformer()"
      ]
    },
    {
      "cell_type": "code",
      "execution_count": 17,
      "metadata": {
        "id": "pIpEi1etUaeU"
      },
      "outputs": [],
      "source": [
        "import pickle\n",
        "\n",
        "pickle.dump(model, open('model.pkl', 'wb')) #Saving the model\n",
        "model_pkd = pickle.load(open('model.pkl', 'rb')) #To load saved model from local directory"
      ]
    },
    {
      "cell_type": "code",
      "execution_count": 18,
      "metadata": {
        "colab": {
          "base_uri": "https://localhost:8080/"
        },
        "id": "9257YtZ0Xwt-",
        "outputId": "fc4eadda-0643-45ee-c492-85f5bb03a5d9"
      },
      "outputs": [
        {
          "name": "stdout",
          "output_type": "stream",
          "text": [
            "32/32 [==============================] - 0s 2ms/step - loss: 0.0234 - binary_accuracy: 0.9970\n",
            "Test loss: 0.023355232551693916\n",
            "Test accuracy: 0.996999979019165\n"
          ]
        }
      ],
      "source": [
        "model_pkd\n",
        "loss_pkd, binary_accuracy_pkd = model_pkd.evaluate(X_test, Y_test)\n",
        "print('Test loss:', loss_pkd)\n",
        "print('Test accuracy:', binary_accuracy_pkd)"
      ]
    },
    {
      "cell_type": "code",
      "execution_count": null,
      "metadata": {
        "colab": {
          "base_uri": "https://localhost:8080/"
        },
        "id": "rM_RVTerGUyi",
        "outputId": "e6a608e4-7e50-491a-ea20-b7d3f2a6793f"
      },
      "outputs": [],
      "source": [
        "type(X_test)"
      ]
    },
    {
      "cell_type": "code",
      "execution_count": 19,
      "metadata": {},
      "outputs": [],
      "source": [
        "arr = np.array([[53, 25]])"
      ]
    },
    {
      "cell_type": "code",
      "execution_count": 20,
      "metadata": {
        "colab": {
          "base_uri": "https://localhost:8080/"
        },
        "id": "Pe1sdeSxFsl2",
        "outputId": "247ef9e6-6f40-4482-e353-6897897795ac"
      },
      "outputs": [
        {
          "name": "stdout",
          "output_type": "stream",
          "text": [
            "1/1 [==============================] - 2s 2s/step\n"
          ]
        },
        {
          "data": {
            "text/plain": [
              "array([[6.718737e-10]], dtype=float32)"
            ]
          },
          "execution_count": 20,
          "metadata": {},
          "output_type": "execute_result"
        }
      ],
      "source": [
        "model_pkd.predict(arr)"
      ]
    },
    {
      "cell_type": "code",
      "execution_count": null,
      "metadata": {
        "colab": {
          "base_uri": "https://localhost:8080/",
          "height": 472
        },
        "id": "VOfy0iOi88qn",
        "outputId": "b60efccc-263f-4995-904c-9fff204b3cc9"
      },
      "outputs": [],
      "source": [
        "# Get training and test loss histories\n",
        "training_loss = history.history['loss']\n",
        "valid_loss = history.history['val_loss']\n",
        "\n",
        "# Create count of the number of epochs\n",
        "epoch_count = range(1, len(training_loss) + 1)\n",
        "\n",
        "# Visualize loss history\n",
        "plt.plot(epoch_count, training_loss, 'r--')\n",
        "plt.plot(epoch_count, valid_loss, 'b-')\n",
        "plt.legend(['Training loss', 'Validation loss'])\n",
        "plt.title('Training and Validation loss vs Epochs')\n",
        "plt.xlabel('Epoch')\n",
        "plt.ylabel('Loss')\n",
        "plt.show();"
      ]
    },
    {
      "cell_type": "code",
      "execution_count": null,
      "metadata": {
        "colab": {
          "base_uri": "https://localhost:8080/",
          "height": 465
        },
        "id": "MQVxJ3mWu6ae",
        "outputId": "96eaa5d8-d25b-4be1-9883-fbf94991d8d0"
      },
      "outputs": [],
      "source": [
        "# Generate confusion matrix\n",
        "y_pred = (model.predict(X_test) > 0.5).astype(\"int32\")\n",
        "from sklearn.metrics import confusion_matrix, classification_report\n",
        "import seaborn as sns\n",
        "cm = confusion_matrix(Y_test, y_pred)\n",
        "sns.heatmap(cm,annot=True)\n"
      ]
    },
    {
      "cell_type": "code",
      "execution_count": null,
      "metadata": {
        "colab": {
          "base_uri": "https://localhost:8080/",
          "height": 581
        },
        "id": "iUPQ2fwlvAo0",
        "outputId": "f55b62b4-8f3d-464c-ecf1-f041dc1267c3"
      },
      "outputs": [],
      "source": [
        "y_pred = np.squeeze(model.predict(X_test)>=0.5).astype(int)\n",
        "cm = confusion_matrix(Y_test, y_pred, labels=[0,1])\n",
        "#clr = classification_report(Y_test, y_pred, labels=[0,1], target_names = [\"Not Working\", \"Working\"])\n",
        "\n",
        "plt.figure(figsize = (6,6))\n",
        "sns.heatmap(cm, annot=True, fmt='g', vmin = 0, cmap = 'Blues', cbar = False)\n",
        "plt.xticks(ticks = [0.5,1.5], labels=[\"Not working\", \"Working\"])\n",
        "plt.yticks(ticks = [0.5,1.5], labels=[\"Not Working\", \"Working\"])\n",
        "plt.xlabel('predicted')\n",
        "plt.ylabel('Actual')\n",
        "plt.title('Confusion Matrix')\n",
        "\n",
        "plt.show()\n",
        "#print(\"Classification Report:\\n------------------\\n\", clr)"
      ]
    }
  ],
  "metadata": {
    "accelerator": "TPU",
    "colab": {
      "provenance": []
    },
    "gpuClass": "standard",
    "kernelspec": {
      "display_name": "Python 3",
      "name": "python3"
    },
    "language_info": {
      "codemirror_mode": {
        "name": "ipython",
        "version": 3
      },
      "file_extension": ".py",
      "mimetype": "text/x-python",
      "name": "python",
      "nbconvert_exporter": "python",
      "pygments_lexer": "ipython3",
      "version": "3.11.1"
    }
  },
  "nbformat": 4,
  "nbformat_minor": 0
}
